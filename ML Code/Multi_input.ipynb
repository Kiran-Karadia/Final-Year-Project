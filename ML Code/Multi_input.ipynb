{
 "cells": [
  {
   "cell_type": "code",
   "execution_count": 25,
   "id": "exceptional-certification",
   "metadata": {},
   "outputs": [],
   "source": [
    "import numpy as np\n",
    "import pandas as pd\n",
    "import matplotlib.pyplot as plt\n",
    "from pathlib import Path\n",
    "import os.path\n",
    "\n",
    "from sklearn.model_selection import train_test_split\n",
    "\n",
    "import tensorflow as tf\n",
    "from tensorflow import keras\n",
    "from tensorflow.keras import layers\n",
    "from random import randrange\n",
    "from PIL import Image"
   ]
  },
  {
   "cell_type": "code",
   "execution_count": 2,
   "id": "wound-lafayette",
   "metadata": {},
   "outputs": [],
   "source": [
    "def draw_image(fig_num, img, title):\n",
    "    plt.figure(fig_num)\n",
    "    plt.imshow(img, cmap='jet')\n",
    "    plt.colorbar()\n",
    "    plt.title(title)\n",
    "    return"
   ]
  },
  {
   "cell_type": "code",
   "execution_count": 3,
   "id": "interim-ottawa",
   "metadata": {},
   "outputs": [],
   "source": [
    "TRAIN_PATH = \"C:/Users/UKGC/Desktop/FYP/Datasets/CNN_train/\"\n",
    "TEST_PATH = \"C:/Users/UKGC/Desktop/FYP/Datasets/CNN_test/\""
   ]
  },
  {
   "cell_type": "code",
   "execution_count": 145,
   "id": "hired-tribune",
   "metadata": {},
   "outputs": [],
   "source": [
    "def multi_generator(generator, subset, x1_dir, x2_dir, x3_dir, x4_dir, y1_dir):   \n",
    "    genX1 = generator.flow_from_directory(\n",
    "        x1_dir,\n",
    "        target_size=(64,64),\n",
    "        color_mode=\"grayscale\",\n",
    "        class_mode=None,\n",
    "        batch_size=20,\n",
    "        shuffle=False,\n",
    "        seed=23,\n",
    "        subset=subset\n",
    "    )\n",
    "    genX2 = generator.flow_from_directory(\n",
    "        x2_dir,\n",
    "        target_size=(64,64),\n",
    "        color_mode=\"grayscale\",\n",
    "        class_mode=None,\n",
    "        batch_size=20,\n",
    "        shuffle=False,\n",
    "        seed=23,\n",
    "        subset=subset\n",
    "    )\n",
    "    genX3 = generator.flow_from_directory(\n",
    "        x3_dir,\n",
    "        target_size=(64,64),\n",
    "        color_mode=\"grayscale\",\n",
    "        class_mode=None,\n",
    "        batch_size=20,\n",
    "        shuffle=False,\n",
    "        seed=23,\n",
    "        subset=subset\n",
    "    )\n",
    "    genX4 = generator.flow_from_directory(\n",
    "        x4_dir,\n",
    "        target_size=(64,64),\n",
    "        color_mode=\"grayscale\",\n",
    "        class_mode=None,\n",
    "        batch_size=20,\n",
    "        shuffle=False,\n",
    "        seed=23,\n",
    "        subset=subset\n",
    "    )\n",
    "    genY1 = generator.flow_from_directory(\n",
    "        y1_dir,\n",
    "        target_size=(64,64),\n",
    "        color_mode=\"grayscale\",\n",
    "        class_mode=None,\n",
    "        batch_size=20,\n",
    "        shuffle=False,\n",
    "        seed=23,\n",
    "        subset=subset\n",
    "    )\n",
    "\n",
    "    while True:\n",
    "        X1i = next(genX1)\n",
    "        X2i = next(genX2)\n",
    "        X3i = next(genX3)\n",
    "        X4i = next(genX4)\n",
    "        Y1i = next(genY1)\n",
    "        yield np.concatenate((X1i, X3i), 3), Y1i\n",
    "        #yield X1i, Y1i\n",
    "        \n",
    "        \n",
    "def single_generator(generator, x1_dir, subset):\n",
    "    genX1 = generator.flow_from_directory(\n",
    "        x1_dir,\n",
    "        target_size=(64,64),\n",
    "        color_mode=\"grayscale\",\n",
    "        class_mode=None,\n",
    "        batch_size=32,\n",
    "        shuffle=True,\n",
    "        seed=23,\n",
    "        subset=subset\n",
    "    )\n",
    "\n",
    "    while True:\n",
    "        X1i = next(genX1)\n",
    "        yield X1i"
   ]
  },
  {
   "cell_type": "code",
   "execution_count": 77,
   "id": "thorough-princeton",
   "metadata": {},
   "outputs": [],
   "source": [
    "train_generator = keras.preprocessing.image.ImageDataGenerator(\n",
    "    rescale=1./255,\n",
    "    validation_split=0.2\n",
    ")\n",
    "test_generator = keras.preprocessing.image.ImageDataGenerator(\n",
    "    rescale=1./255\n",
    ")\n",
    "\n",
    "target_size = (64,64)\n",
    "color_mode = \"grayscale\"\n",
    "class_mode = None\n",
    "batch_size = 64\n",
    "shuffle = True\n",
    "seed = 23"
   ]
  },
  {
   "cell_type": "code",
   "execution_count": 146,
   "id": "extra-projection",
   "metadata": {},
   "outputs": [],
   "source": [
    "train_data = multi_generator(train_generator,\n",
    "                             \"training\",\n",
    "                             TRAIN_PATH+\"AA_LBP_image\",\n",
    "                             TRAIN_PATH+\"ToF_LBP_image\",\n",
    "                             TRAIN_PATH+\"AA_LBPTH_image\",\n",
    "                             TRAIN_PATH+\"avg_image\",\n",
    "                             TRAIN_PATH+\"True_image\")\n",
    "valid_data = multi_generator(train_generator,\n",
    "                             \"validation\",\n",
    "                             TRAIN_PATH+\"AA_LBP_image\",\n",
    "                             TRAIN_PATH+\"ToF_LBP_image\",\n",
    "                             TRAIN_PATH+\"AA_LBPTH_image\",\n",
    "                             TRAIN_PATH+\"avg_image\",\n",
    "                             TRAIN_PATH+\"True_image\")\n",
    "test_data = multi_generator(test_generator,\n",
    "                             None,\n",
    "                             TEST_PATH+\"AA_LBP_image\",\n",
    "                             TEST_PATH+\"ToF_LBP_image\",\n",
    "                             TEST_PATH+\"AA_LBPTH_image\",\n",
    "                             TEST_PATH+\"avg_image\",\n",
    "                             TEST_PATH+\"True_image\")"
   ]
  },
  {
   "cell_type": "code",
   "execution_count": 43,
   "id": "corporate-withdrawal",
   "metadata": {},
   "outputs": [],
   "source": [
    "model = keras.Sequential(\n",
    "    [\n",
    "        keras.Input(shape=(64,64, 4)),\n",
    "        layers.Conv2D(16, 3, padding=\"same\"),\n",
    "        layers.BatchNormalization(),\n",
    "        layers.ReLU(),\n",
    "\n",
    "        layers.Conv2D(16, 3, padding=\"same\", dilation_rate=1),\n",
    "        layers.BatchNormalization(),\n",
    "        layers.ReLU(),\n",
    "        layers.Conv2D(16, 3, padding=\"same\", dilation_rate=1),\n",
    "        layers.BatchNormalization(),\n",
    "        layers.ReLU(),  \n",
    "\n",
    "        layers.Conv2D(16, 3, padding=\"same\", dilation_rate=2),\n",
    "        layers.BatchNormalization(),\n",
    "        layers.ReLU(),\n",
    "        layers.Conv2D(16, 3, padding=\"same\", dilation_rate=2),\n",
    "        layers.BatchNormalization(),\n",
    "        layers.ReLU(),\n",
    "\n",
    "        layers.Conv2D(16, 3, padding=\"same\", dilation_rate=4),\n",
    "        layers.BatchNormalization(),\n",
    "        layers.ReLU(),\n",
    "        layers.Conv2D(16, 3, padding=\"same\", dilation_rate=4),\n",
    "        layers.BatchNormalization(),\n",
    "        layers.ReLU(),\n",
    "\n",
    "        layers.Conv2D(16, 3, padding=\"same\", dilation_rate=8),\n",
    "        layers.BatchNormalization(),\n",
    "        layers.ReLU(),\n",
    "        layers.Conv2D(16, 3, padding=\"same\", dilation_rate=8),\n",
    "        layers.BatchNormalization(),\n",
    "        layers.ReLU(),\n",
    "\n",
    "        layers.Conv2D(16, 3, padding=\"same\", dilation_rate=16),\n",
    "        layers.BatchNormalization(),\n",
    "        layers.ReLU(),\n",
    "        layers.Conv2D(16, 3, padding=\"same\", dilation_rate=16),\n",
    "        layers.BatchNormalization(),\n",
    "        layers.ReLU(),\n",
    "\n",
    "        layers.Conv2D(1, 3, padding=\"same\", activation=\"relu\")\n",
    "    ]\n",
    ")\n",
    "model.compile(\n",
    "    loss = keras.losses.MeanSquaredError(),\n",
    "    optimizer = keras.optimizers.Adam(),\n",
    "    metrics=[\"accuracy\"],\n",
    ")"
   ]
  },
  {
   "cell_type": "code",
   "execution_count": 44,
   "id": "framed-passage",
   "metadata": {},
   "outputs": [
    {
     "name": "stdout",
     "output_type": "stream",
     "text": [
      "Epoch 1/2\n",
      "93/93 [==============================] - ETA: 0s - loss: 0.0467 - accuracy: 0.9564INFO:tensorflow:Assets written to: C:/Users/UKGC/Desktop/FYP/Models/Temp\\assets\n",
      "93/93 [==============================] - 94s 1s/step - loss: 0.0467 - accuracy: 0.9564 - val_loss: 0.0544 - val_accuracy: 0.9432\n",
      "Epoch 2/2\n",
      "93/93 [==============================] - 86s 928ms/step - loss: 0.0127 - accuracy: 0.9846 - val_loss: 0.0554 - val_accuracy: 0.9427\n"
     ]
    }
   ],
   "source": [
    "history = model.fit(\n",
    "    x = train_data,\n",
    "    validation_data=valid_data,\n",
    "    steps_per_epoch=6000//batch_size,\n",
    "    validation_steps=1500//batch_size,\n",
    "    epochs=2,\n",
    "    verbose=1,\n",
    "    callbacks=[\n",
    "        tf.keras.callbacks.EarlyStopping(\n",
    "        monitor=\"val_loss\",\n",
    "        patience=10,\n",
    "        restore_best_weights=True,),\n",
    "        tf.keras.callbacks.ModelCheckpoint(\n",
    "        filepath=\"C:/Users/UKGC/Desktop/FYP/Models/Temp/\",\n",
    "        save_best_only=True,\n",
    "        monitor='val_accuracy',\n",
    "        mode='max',\n",
    "        save_freq='epoch'),\n",
    "    ]\n",
    ")"
   ]
  },
  {
   "cell_type": "code",
   "execution_count": 147,
   "id": "central-reconstruction",
   "metadata": {},
   "outputs": [],
   "source": [
    "model = keras.models.load_model(\"C:/Users/UKGC/Desktop/FYP/Models/ImgEnhCnn_aa_lbp2\")"
   ]
  },
  {
   "cell_type": "code",
   "execution_count": 148,
   "id": "heated-witch",
   "metadata": {},
   "outputs": [
    {
     "name": "stdout",
     "output_type": "stream",
     "text": [
      "Found 20 images belonging to 1 classes.\n",
      "Found 20 images belonging to 1 classes.\n",
      "Found 20 images belonging to 1 classes.\n",
      "Found 20 images belonging to 1 classes.\n",
      "Found 20 images belonging to 1 classes.\n"
     ]
    }
   ],
   "source": [
    "pred_imgs, true_img = next(test_data)"
   ]
  },
  {
   "cell_type": "code",
   "execution_count": 155,
   "id": "selective-paintball",
   "metadata": {},
   "outputs": [
    {
     "name": "stdout",
     "output_type": "stream",
     "text": [
      "(20, 64, 64, 2)\n",
      "(20, 64, 64, 1)\n",
      "(20, 64, 64)\n"
     ]
    }
   ],
   "source": [
    "print(pred_imgs.shape)\n",
    "print(true_img.shape)\n",
    "predictions1 = model.predict(pred_imgs)\n",
    "predictions = np.squeeze(predictions1)\n",
    "print(predictions.shape)"
   ]
  },
  {
   "cell_type": "code",
   "execution_count": 157,
   "id": "sixth-collectible",
   "metadata": {},
   "outputs": [
    {
     "name": "stdout",
     "output_type": "stream",
     "text": [
      "20/20 [==============================] - 2s 98ms/step - loss: 0.0063 - accuracy: 0.9931\n"
     ]
    }
   ],
   "source": [
    "score = model.evaluate(test_data, steps=20)"
   ]
  },
  {
   "cell_type": "code",
   "execution_count": 156,
   "id": "accompanied-document",
   "metadata": {},
   "outputs": [],
   "source": [
    "index = [1, 6, 2, 18, 20, 16]\n",
    "\n",
    "for i in range(1, 21):\n",
    "    current_avg_img = predictions[i-1] / np.max(predictions[i-1])\n",
    "    current_avg_img = current_avg_img * 255\n",
    "    image_mat = (current_avg_img).astype(np.uint8)\n",
    "    image = Image.fromarray(image_mat)\n",
    "    image.save(\"C:/Users/UKGC/Desktop/FYP/Datasets/CNN_test/Results_aa_lbp2/pred\"+str(i)+\".png\")"
   ]
  },
  {
   "cell_type": "code",
   "execution_count": 153,
   "id": "small-prescription",
   "metadata": {},
   "outputs": [
    {
     "data": {
      "image/png": "[encoded data removed]",
      "text/plain": [
       "<Figure size 432x288 with 2 Axes>"
      ]
     },
     "metadata": {
      "needs_background": "light"
     },
     "output_type": "display_data"
    }
   ],
   "source": [
    "draw_image(1, predictions[5], \"\")"
   ]
  },
  {
   "cell_type": "code",
   "execution_count": 151,
   "id": "above-communication",
   "metadata": {},
   "outputs": [],
   "source": [
    "for i in range(0, 20):\n",
    "    image = predictions[i]\n",
    "    image[image!=0] = 1\n",
    "    predictions[i] = image"
   ]
  },
  {
   "cell_type": "code",
   "execution_count": 152,
   "id": "dress-partnership",
   "metadata": {},
   "outputs": [
    {
     "name": "stdout",
     "output_type": "stream",
     "text": [
      "0.0170166\n"
     ]
    }
   ],
   "source": [
    "mse = keras.losses.MeanSquaredError()\n",
    "\n",
    "c = mse(true_img, np.reshape(predictions, (20, 64, 64, 1))).numpy()\n",
    "print(c)"
   ]
  },
  {
   "cell_type": "code",
   "execution_count": 119,
   "id": "precise-flash",
   "metadata": {},
   "outputs": [
    {
     "data": {
      "text/plain": [
       "(64, 64)"
      ]
     },
     "execution_count": 119,
     "metadata": {},
     "output_type": "execute_result"
    }
   ],
   "source": [
    "predictions[0].shape"
   ]
  }
 ],
 "metadata": {
  "kernelspec": {
   "display_name": "Python 3",
   "language": "python",
   "name": "python3"
  },
  "language_info": {
   "codemirror_mode": {
    "name": "ipython",
    "version": 3
   },
   "file_extension": ".py",
   "mimetype": "text/x-python",
   "name": "python",
   "nbconvert_exporter": "python",
   "pygments_lexer": "ipython3",
   "version": "3.8.8"
  }
 },
 "nbformat": 4,
 "nbformat_minor": 5
}
