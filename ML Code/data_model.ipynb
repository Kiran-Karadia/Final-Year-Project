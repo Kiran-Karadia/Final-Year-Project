{
 "cells": [
  {
   "cell_type": "code",
   "execution_count": 2,
   "id": "collective-recording",
   "metadata": {},
   "outputs": [],
   "source": [
    "import numpy as np\n",
    "import pandas as pd\n",
    "import scipy.io as sio\n",
    "import matplotlib.pyplot as plt\n",
    "import matplotlib.image as mpimg\n",
    "from pathlib import Path\n",
    "import os.path\n",
    "\n",
    "from sklearn.model_selection import train_test_split\n",
    "\n",
    "import tensorflow as tf\n",
    "from tensorflow import keras\n",
    "from tensorflow.keras import layers\n",
    "from random import randrange\n",
    "from PIL import Image"
   ]
  },
  {
   "cell_type": "code",
   "execution_count": 3,
   "id": "clear-ownership",
   "metadata": {},
   "outputs": [],
   "source": [
    "def draw_image(fig_num, img, title):\n",
    "    plt.figure(fig_num)\n",
    "    plt.imshow(img, cmap='jet')\n",
    "    plt.colorbar()\n",
    "    plt.title(title)\n",
    "    return\n",
    "\n",
    "mse = tf.keras.losses.MeanSquaredError()\n",
    "TRAIN_PATH = \"C:/Users/UKGC/Desktop/FYP/Datasets/CNN_test/\"\n",
    "TEST_PATH = \"C:/Users/UKGC/Desktop/FYP/Datasets/CNN_test/\"\n",
    "amount = 20"
   ]
  },
  {
   "cell_type": "code",
   "execution_count": 4,
   "id": "perceived-excess",
   "metadata": {},
   "outputs": [],
   "source": [
    "true_images = []\n",
    "for i in range(1,amount+1):\n",
    "    true_images.append(mpimg.imread(TRAIN_PATH+\"True_image/images/true_image\"+str(i)+\".png\"))"
   ]
  },
  {
   "cell_type": "code",
   "execution_count": 8,
   "id": "collect-granny",
   "metadata": {},
   "outputs": [],
   "source": [
    "dv = sio.loadmat(\"C:/Users/UKGC/Desktop/FYP/Datasets/CNN_test/dv_data/aa_dv/aa_dv.mat\")\n",
    "data = dv['dv']\n",
    "#norm = np.linalg.norm(data)\n",
    "aa_dv = data\n",
    "#aa_dv = abs(aa_dv)\n",
    "\n",
    "dv = sio.loadmat(\"C:/Users/UKGC/Desktop/FYP/Datasets/CNN_test/dv_data/tof_dv/tof_dv.mat\")\n",
    "data = dv['tof_dv']\n",
    "#norm = np.linalg.norm(data)\n",
    "tof_dv = data\n",
    "#tof_dv = abs(tof_dv)"
   ]
  },
  {
   "cell_type": "code",
   "execution_count": 10,
   "id": "voluntary-aerospace",
   "metadata": {},
   "outputs": [],
   "source": [
    "true_images = np.reshape(true_images, (amount, 4096))"
   ]
  },
  {
   "cell_type": "code",
   "execution_count": 11,
   "id": "protecting-decision",
   "metadata": {},
   "outputs": [
    {
     "name": "stdout",
     "output_type": "stream",
     "text": [
      "(20, 864)\n",
      "(20, 864)\n",
      "(20, 4096)\n"
     ]
    }
   ],
   "source": [
    "print(np.shape(aa_dv))\n",
    "print(np.shape(tof_dv))\n",
    "print(np.shape(true_images))"
   ]
  },
  {
   "cell_type": "code",
   "execution_count": 34,
   "id": "unsigned-compilation",
   "metadata": {},
   "outputs": [
    {
     "name": "stdout",
     "output_type": "stream",
     "text": [
      "Model: \"sequential_14\"\n",
      "_________________________________________________________________\n",
      "Layer (type)                 Output Shape              Param #   \n",
      "=================================================================\n",
      "dense_62 (Dense)             (None, 32)                27680     \n",
      "_________________________________________________________________\n",
      "dense_63 (Dense)             (None, 32)                1056      \n",
      "_________________________________________________________________\n",
      "dense_64 (Dense)             (None, 4096)              135168    \n",
      "=================================================================\n",
      "Total params: 163,904\n",
      "Trainable params: 163,904\n",
      "Non-trainable params: 0\n",
      "_________________________________________________________________\n",
      "None\n"
     ]
    }
   ],
   "source": [
    "model = keras.Sequential(\n",
    "    [\n",
    "        keras.Input(shape=(864)),\n",
    "        layers.Dense(32, activation=\"relu\", use_bias=True),\n",
    "        layers.Dense(32, activation=\"relu\", use_bias=True),\n",
    "        layers.Dense(32, activation=\"relu\", use_bias=True),\n",
    "        layers.Dense(32, activation=\"relu\", use_bias=True),\n",
    "        layers.Dense(4096),\n",
    "    ]\n",
    ")\n",
    "print(model.summary())\n",
    "model.compile(\n",
    "    loss = keras.losses.MeanSquaredError(),\n",
    "    optimizer = keras.optimizers.Adam(learning_rate=0.001),\n",
    ")\n",
    "model2 = model"
   ]
  },
  {
   "cell_type": "code",
   "execution_count": 35,
   "id": "under-consequence",
   "metadata": {},
   "outputs": [
    {
     "name": "stdout",
     "output_type": "stream",
     "text": [
      "Epoch 1/10\n",
      "235/235 [==============================] - 0s 1ms/step - loss: 0.0325\n",
      "Epoch 2/10\n",
      "235/235 [==============================] - 0s 1ms/step - loss: 0.0206\n",
      "Epoch 3/10\n",
      "235/235 [==============================] - 0s 1ms/step - loss: 0.0194\n",
      "Epoch 4/10\n",
      "235/235 [==============================] - 0s 1ms/step - loss: 0.0190\n",
      "Epoch 5/10\n",
      "235/235 [==============================] - 0s 1ms/step - loss: 0.0184\n",
      "Epoch 6/10\n",
      "235/235 [==============================] - 0s 1ms/step - loss: 0.0178\n",
      "Epoch 7/10\n",
      "235/235 [==============================] - 0s 1ms/step - loss: 0.0176\n",
      "Epoch 8/10\n",
      "235/235 [==============================] - 0s 1ms/step - loss: 0.0174\n",
      "Epoch 9/10\n",
      "235/235 [==============================] - 0s 1ms/step - loss: 0.0172\n",
      "Epoch 10/10\n",
      "235/235 [==============================] - 0s 1ms/step - loss: 0.0170\n",
      "-------------------------------------------------------------------------------------\n",
      "Epoch 1/10\n",
      "235/235 [==============================] - 0s 1ms/step - loss: 0.0183\n",
      "Epoch 2/10\n",
      "235/235 [==============================] - 0s 1ms/step - loss: 0.0158\n",
      "Epoch 3/10\n",
      "235/235 [==============================] - 0s 1ms/step - loss: 0.0151\n",
      "Epoch 4/10\n",
      "235/235 [==============================] - 0s 1ms/step - loss: 0.0146\n",
      "Epoch 5/10\n",
      "235/235 [==============================] - 0s 2ms/step - loss: 0.0143\n",
      "Epoch 6/10\n",
      "235/235 [==============================] - 0s 2ms/step - loss: 0.0140\n",
      "Epoch 7/10\n",
      "235/235 [==============================] - 0s 1ms/step - loss: 0.0139\n",
      "Epoch 8/10\n",
      "235/235 [==============================] - 0s 2ms/step - loss: 0.0137\n",
      "Epoch 9/10\n",
      "235/235 [==============================] - 0s 2ms/step - loss: 0.0136\n",
      "Epoch 10/10\n",
      "235/235 [==============================] - 0s 2ms/step - loss: 0.0134\n"
     ]
    },
    {
     "data": {
      "text/plain": [
       "<tensorflow.python.keras.callbacks.History at 0x188528bc9d0>"
      ]
     },
     "execution_count": 35,
     "metadata": {},
     "output_type": "execute_result"
    }
   ],
   "source": [
    "model.fit(aa_dv, \n",
    "          true_images, \n",
    "          batch_size=32,\n",
    "          epochs=10, \n",
    "          verbose=1, \n",
    "          shuffle=\"false\")\n",
    "\n",
    "print(\"-------------------------------------------------------------------------------------\")\n",
    "model2.fit(tof_dv, \n",
    "          true_images, \n",
    "          batch_size=32,\n",
    "          epochs=10, \n",
    "          verbose=1, \n",
    "          shuffle=\"false\")"
   ]
  },
  {
   "cell_type": "code",
   "execution_count": 29,
   "id": "failing-headline",
   "metadata": {},
   "outputs": [],
   "source": [
    "dv = sio.loadmat(\"C:/Users/UKGC/Desktop/FYP/Code/FYP/K_UST/Example/dv.mat\")\n",
    "data = dv['dv']\n",
    "aa_dv_test = data\n",
    "aa_dv_test = abs(aa_dv_test)\n",
    "\n",
    "dv = sio.loadmat(\"C:/Users/UKGC/Desktop/FYP/Datasets/CNN_test/dv_data/tof_dv/tof_dv.mat\")\n",
    "data = dv['tof_dv']\n",
    "tof_dv_test = data\n",
    "tof_dv_test = abs(tof_dv_test)"
   ]
  },
  {
   "cell_type": "code",
   "execution_count": 31,
   "id": "immune-frame",
   "metadata": {},
   "outputs": [],
   "source": [
    "aa_dv_test = np.reshape(test_data, (20, 864))"
   ]
  },
  {
   "cell_type": "code",
   "execution_count": 41,
   "id": "impressive-scanner",
   "metadata": {},
   "outputs": [
    {
     "name": "stdout",
     "output_type": "stream",
     "text": [
      "(100, 4096)\n"
     ]
    }
   ],
   "source": [
    "aa_pred = model.predict(abs(aa_dv_test))\n",
    "print(aa_pred.shape)\n",
    "aa_pred = np.reshape(aa_pred, (100, 64, 64))\n",
    "\n",
    "tof_pred = model2.predict(tof_dv)\n",
    "tof_pred = np.reshape(tof_pred, (7500, 64,64))"
   ]
  },
  {
   "cell_type": "code",
   "execution_count": 57,
   "id": "funded-separation",
   "metadata": {},
   "outputs": [
    {
     "name": "stdout",
     "output_type": "stream",
     "text": [
      "0.022627092897892\n"
     ]
    },
    {
     "data": {
      "image/png": "[encoded data removed]",
      "text/plain": [
       "<Figure size 432x288 with 2 Axes>"
      ]
     },
     "metadata": {
      "needs_background": "light"
     },
     "output_type": "display_data"
    }
   ],
   "source": [
    "case = randrange(0,100)\n",
    "\n",
    "\n",
    "\n",
    "#true_test = mpimg.imread(\"C:/Users/UKGC/Desktop/FYP/Datasets/CNN_train/True_image/images/true_image\"+str(case)+\".png\")\n",
    "\n",
    "\n",
    "temp_aa = aa_pred[case-1] / np.max(aa_pred[case-1])\n",
    "temp_aa = abs(temp_aa)\n",
    "\n",
    "#temp_tof = tof_pred[case-1] / np.max(tof_pred[case-1])\n",
    "#temp_tof = abs(temp_tof)\n",
    "\n",
    "\n",
    "#a = (temp_aa*0.5 + temp_tof) / 2\n",
    "#a = a / np.max(a)\n",
    "\n",
    "#ev = float(mse(a, true_test))\n",
    "print(ev)\n",
    "\n",
    "\n",
    "#draw_image(1, true_test, \"True image \"+str(case))\n",
    "draw_image(2, temp_aa, \"Pred aa_dv\")\n",
    "#draw_image(3, temp_tof, \"Pred tof_dv\")\n",
    "#draw_image(4, a, \"avg\")\n"
   ]
  },
  {
   "cell_type": "code",
   "execution_count": 26,
   "id": "animal-block",
   "metadata": {},
   "outputs": [
    {
     "name": "stdout",
     "output_type": "stream",
     "text": [
      "WARNING:tensorflow:From C:\\Users\\UKGC\\anaconda3\\envs\\FYP\\lib\\site-packages\\tensorflow\\python\\training\\tracking\\tracking.py:111: Model.state_updates (from tensorflow.python.keras.engine.training) is deprecated and will be removed in a future version.\n",
      "Instructions for updating:\n",
      "This property should not be used in TensorFlow 2.0, as updates are applied automatically.\n",
      "WARNING:tensorflow:From C:\\Users\\UKGC\\anaconda3\\envs\\FYP\\lib\\site-packages\\tensorflow\\python\\training\\tracking\\tracking.py:111: Layer.updates (from tensorflow.python.keras.engine.base_layer) is deprecated and will be removed in a future version.\n",
      "Instructions for updating:\n",
      "This property should not be used in TensorFlow 2.0, as updates are applied automatically.\n",
      "INFO:tensorflow:Assets written to: C:/Users/UKGC/Desktop/FYP/Models/ToF_NN\\assets\n",
      "INFO:tensorflow:Assets written to: C:/Users/UKGC/Desktop/FYP/Models/AA_NN\\assets\n"
     ]
    }
   ],
   "source": [
    "model.save(\"C:/Users/UKGC/Desktop/FYP/Models/ToF_NN\")\n",
    "model2.save(\"C:/Users/UKGC/Desktop/FYP/Models/AA_NN\")"
   ]
  },
  {
   "cell_type": "code",
   "execution_count": 291,
   "id": "compact-austin",
   "metadata": {},
   "outputs": [
    {
     "data": {
      "text/plain": [
       "(64, 64)"
      ]
     },
     "execution_count": 291,
     "metadata": {},
     "output_type": "execute_result"
    }
   ],
   "source": [
    "a = avg_images[0]\n",
    "a.shape"
   ]
  },
  {
   "cell_type": "code",
   "execution_count": 27,
   "id": "classified-aviation",
   "metadata": {},
   "outputs": [],
   "source": [
    "avg_images = []\n",
    "for i in range(0,20):\n",
    "    temp_aa = aa_pred[i] / np.max(aa_pred[i])\n",
    "    temp_aa = abs(temp_aa)\n",
    "\n",
    "    temp_tof = tof_pred[i] / np.max(tof_pred[i])\n",
    "    temp_tof = abs(temp_tof)\n",
    "    \n",
    "    a = (temp_aa*0.5 + temp_tof) / 2\n",
    "    a = a / np.max(a)\n",
    "    a = a * 255\n",
    "    \n",
    "    avg_images.append(a)"
   ]
  },
  {
   "cell_type": "code",
   "execution_count": 12,
   "id": "hazardous-leisure",
   "metadata": {},
   "outputs": [],
   "source": [
    "ToF_NN = keras.models.load_model(\"C:/Users/UKGC/Desktop/FYP/Models/ToF_NN\")\n",
    "AA_NN = keras.models.load_model(\"C:/Users/UKGC/Desktop/FYP/Models/AA_NN\")"
   ]
  },
  {
   "cell_type": "code",
   "execution_count": 22,
   "id": "bound-coach",
   "metadata": {},
   "outputs": [],
   "source": [
    "avg_images = []\n",
    "\n",
    "aa_pred = AA_NN.predict(aa_dv)\n",
    "tof_pred = ToF_NN.predict(tof_dv)\n",
    "\n",
    "for i in range(0,20):\n",
    "    temp_aa = aa_pred[i] / np.max(aa_pred[i])\n",
    "    temp_aa = abs(temp_aa)\n",
    "\n",
    "    temp_tof = tof_pred[i] / np.max(tof_pred[i])\n",
    "    temp_tof = abs(temp_tof)\n",
    "    \n",
    "    a = (temp_aa*0.5 + temp_tof) / 2\n",
    "    a = a / np.max(a)\n",
    "    a = a * 255\n",
    "    a = np.reshape(a, (64, 64))\n",
    "    avg_images.append(a)\n",
    "    \n",
    "    "
   ]
  },
  {
   "cell_type": "code",
   "execution_count": 24,
   "id": "thorough-albany",
   "metadata": {},
   "outputs": [],
   "source": [
    "\n",
    "for i in range(0,20):\n",
    "    current_avg_img = avg_images[i]\n",
    "    image_mat = (current_avg_img).astype(np.uint8)\n",
    "    image = Image.fromarray(image_mat)\n",
    "    image.save(\"C:/Users/UKGC/Desktop/FYP/Datasets/CNN_test/avg_image/images/avg_image\"+str(i+1)+\".png\")\n",
    "\n",
    "    #image = mpimg.imread(\"C:/Users/UKGC/Desktop/FYP/Datasets/CNN_train/avg_image/images/avg_image\"+str(i)+\".png\")\n",
    "    #draw_image(3, image, \"yo\")\n",
    "    \n",
    "    "
   ]
  },
  {
   "cell_type": "code",
   "execution_count": 23,
   "id": "stone-camping",
   "metadata": {},
   "outputs": [
    {
     "data": {
      "text/plain": [
       "(20, 64, 64)"
      ]
     },
     "execution_count": 23,
     "metadata": {},
     "output_type": "execute_result"
    }
   ],
   "source": [
    "np.shape(avg_images)"
   ]
  }
 ],
 "metadata": {
  "kernelspec": {
   "display_name": "Python 3",
   "language": "python",
   "name": "python3"
  },
  "language_info": {
   "codemirror_mode": {
    "name": "ipython",
    "version": 3
   },
   "file_extension": ".py",
   "mimetype": "text/x-python",
   "name": "python",
   "nbconvert_exporter": "python",
   "pygments_lexer": "ipython3",
   "version": "3.8.8"
  }
 },
 "nbformat": 4,
 "nbformat_minor": 5
}
